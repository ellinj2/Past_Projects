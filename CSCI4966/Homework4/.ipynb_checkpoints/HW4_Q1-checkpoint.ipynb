{
 "cells": [
  {
   "cell_type": "markdown",
   "metadata": {},
   "source": [
    "### Question 1.  A Tensorflow2 Convolutional Neural Network on the MNIST dataset"
   ]
  },
  {
   "cell_type": "code",
   "execution_count": 1,
   "metadata": {},
   "outputs": [],
   "source": [
    "import numpy as np\n",
    "import matplotlib.pyplot as plt\n",
    "%matplotlib inline\n",
    "\n",
    "from sklearn.model_selection import train_test_split\n",
    "from sklearn.metrics import confusion_matrix"
   ]
  },
  {
   "cell_type": "markdown",
   "metadata": {},
   "source": [
    "#### 1.1 (1) Tensorflow2 imports "
   ]
  },
  {
   "cell_type": "code",
   "execution_count": 20,
   "metadata": {},
   "outputs": [
    {
     "data": {
      "text/plain": [
       "'2.3.1'"
      ]
     },
     "execution_count": 20,
     "metadata": {},
     "output_type": "execute_result"
    }
   ],
   "source": [
    "# Your Code Here\n",
    "import tensorflow as tf\n",
    "from tensorflow.keras.models import Sequential, Model\n",
    "from tensorflow.keras.layers import Dropout, Conv2D, MaxPooling2D, ReLU\n",
    "from tensorflow.keras.losses import categorical_crossentropy\n",
    "from tensorflow.keras.optimizers import Adam\n",
    "\n",
    "tf.__version__"
   ]
  },
  {
   "cell_type": "markdown",
   "metadata": {},
   "source": [
    "#### 1.2 (1) Load the Mnist data set into X_train,y_train,X_test and y_test\n"
   ]
  },
  {
   "cell_type": "code",
   "execution_count": 4,
   "metadata": {},
   "outputs": [
    {
     "data": {
      "text/plain": [
       "((60000, 28, 28), (60000,), (10000, 28, 28), (10000,))"
      ]
     },
     "execution_count": 4,
     "metadata": {},
     "output_type": "execute_result"
    }
   ],
   "source": [
    "# Your Code Here\n",
    "from keras.datasets import mnist\n",
    "(X_train,y_train), (X_test,y_test) = mnist.load_data()\n",
    "\n",
    "X_train.shape,y_train.shape,X_test.shape,y_test.shape"
   ]
  },
  {
   "cell_type": "markdown",
   "metadata": {},
   "source": [
    "#### 1.3 (1) Display the 5th Image in the test set"
   ]
  },
  {
   "cell_type": "code",
   "execution_count": 6,
   "metadata": {},
   "outputs": [
    {
     "data": {
      "image/png": "[encoded data removed]",
      "text/plain": [
       "<Figure size 576x576 with 1 Axes>"
      ]
     },
     "metadata": {
      "needs_background": "light"
     },
     "output_type": "display_data"
    }
   ],
   "source": [
    "# Your Code Here\n",
    "fig, ax1 = plt.subplots(1,1,figsize=[8,8])\n",
    "ax1.imshow(X_train[0,:,:])\n",
    "ax1.set_title(f\"Ground truth: {y_train[0]}\")\n",
    "\n",
    "plt.show()\n"
   ]
  },
  {
   "cell_type": "markdown",
   "metadata": {},
   "source": [
    "####  1.4 (2) Reshape each image to 28x28x1, convert to float32 and scale to between 0 and 1\n"
   ]
  },
  {
   "cell_type": "code",
   "execution_count": 12,
   "metadata": {},
   "outputs": [],
   "source": [
    "# Your Code Here\n",
    "X_train = X_train.reshape(-1,28,28,1)\n",
    "X_test = X_test.reshape(-1,28,28,1)\n",
    "X_train = X_train.astype(\"float32\") / 255.\n",
    "X_test = X_test.astype(\"float32\") / 255.\n"
   ]
  },
  {
   "cell_type": "markdown",
   "metadata": {},
   "source": [
    "#### 1.5 (2) One-hot encode the target labels"
   ]
  },
  {
   "cell_type": "code",
   "execution_count": 9,
   "metadata": {},
   "outputs": [
    {
     "name": "stdout",
     "output_type": "stream",
     "text": [
      "Origin: 5\n",
      "Transform: [0. 0. 0. 0. 0. 1. 0. 0. 0. 0.]\n"
     ]
    }
   ],
   "source": [
    "# Your Code Here\n",
    "from keras.utils import to_categorical\n",
    "y_train_one_hot = to_categorical(y_train)\n",
    "y_test_one_hot = to_categorical(y_test)\n",
    "print(f\"Origin: {y_train[0]}\")\n",
    "print(f\"Transform: {y_train_one_hot[0]}\")\n"
   ]
  },
  {
   "cell_type": "markdown",
   "metadata": {},
   "source": [
    "#### 1.6 (2) Split training data into training data and validation data \n"
   ]
  },
  {
   "cell_type": "code",
   "execution_count": 14,
   "metadata": {},
   "outputs": [
    {
     "data": {
      "text/plain": [
       "((48000, 28, 28, 1), (12000, 28, 28, 1), (48000, 10), (12000, 10))"
      ]
     },
     "execution_count": 14,
     "metadata": {},
     "output_type": "execute_result"
    }
   ],
   "source": [
    "# Your Code Here\n",
    "train_X, valid_X, train_label, valid_label = train_test_split(X_train, y_train_one_hot, test_size=0.2, random_state=13)\n",
    "train_X.shape,valid_X.shape,train_label.shape,valid_label.shape\n"
   ]
  },
  {
   "cell_type": "markdown",
   "metadata": {},
   "source": [
    "#### 1.7 (6) Specify the model structure and output a model summary\n",
    "\n",
    "* Use two Convolutional 2D layers, 2 MaxPooling layers and 2 ReLu layers, 2 dropout layers and a Feed Foward layer.\n",
    "* The two Convolutional 2D layers should have output of 16 and 32 channels\n",
    "* Display a summary of the model"
   ]
  },
  {
   "cell_type": "code",
   "execution_count": 19,
   "metadata": {},
   "outputs": [
    {
     "name": "stdout",
     "output_type": "stream",
     "text": [
      "Model: \"sequential_2\"\n",
      "_________________________________________________________________\n",
      "Layer (type)                 Output Shape              Param #   \n",
      "=================================================================\n",
      "conv2d_3 (Conv2D)            (None, 28, 28, 16)        160       \n",
      "_________________________________________________________________\n",
      "re_lu_2 (ReLU)               (None, 28, 28, 16)        0         \n",
      "_________________________________________________________________\n",
      "max_pooling2d_2 (MaxPooling2 (None, 14, 14, 16)        0         \n",
      "_________________________________________________________________\n",
      "dropout_2 (Dropout)          (None, 14, 14, 16)        0         \n",
      "_________________________________________________________________\n",
      "conv2d_4 (Conv2D)            (None, 14, 14, 32)        4640      \n",
      "_________________________________________________________________\n",
      "re_lu_3 (ReLU)               (None, 14, 14, 32)        0         \n",
      "_________________________________________________________________\n",
      "max_pooling2d_3 (MaxPooling2 (None, 7, 7, 32)          0         \n",
      "_________________________________________________________________\n",
      "dropout_3 (Dropout)          (None, 7, 7, 32)          0         \n",
      "_________________________________________________________________\n",
      "flatten (Flatten)            (None, 1568)              0         \n",
      "_________________________________________________________________\n",
      "dense (Dense)                (None, 10)                15690     \n",
      "=================================================================\n",
      "Total params: 20,490\n",
      "Trainable params: 20,490\n",
      "Non-trainable params: 0\n",
      "_________________________________________________________________\n"
     ]
    }
   ],
   "source": [
    "# Your Code Here\n",
    "model = Sequential()\n",
    "\n",
    "model.add(Conv2D(16, kernel_size=(3,3), activation=\"linear\", input_shape=(28,28,1), padding=\"same\"))\n",
    "model.add(ReLU())\n",
    "model.add(MaxPooling2D(pool_size=(2,2), padding=\"same\"))\n",
    "model.add(Dropout(0.25))\n",
    "\n",
    "model.add(Conv2D(32, (3,3), activation=\"linear\", padding=\"same\"))\n",
    "model.add(ReLU())\n",
    "model.add(MaxPooling2D(pool_size=(2,2), padding=\"same\"))\n",
    "model.add(Dropout(0.25))\n",
    "\n",
    "model.add(Flatten())\n",
    "model.add(Dense(10, activation=\"softmax\"))\n",
    "\n",
    "model.summary()"
   ]
  },
  {
   "cell_type": "markdown",
   "metadata": {},
   "source": [
    "#### 1.8 (1) Compile Model with cross entropy loss,  the Adam optimizer with a learning rate of 0.001 and an accuracy metric\n"
   ]
  },
  {
   "cell_type": "code",
   "execution_count": 21,
   "metadata": {},
   "outputs": [],
   "source": [
    "# Your Code Here\n",
    "model.compile(loss=categorical_crossentropy, optimizer=Adam(learning_rate=0.001), metrics=[\"accuracy\"])\n"
   ]
  },
  {
   "cell_type": "markdown",
   "metadata": {},
   "source": [
    "####  1.9 (3) Train the model with a mini-batch size of 128 for 10 epochs. Include the validation set.\n"
   ]
  },
  {
   "cell_type": "code",
   "execution_count": 22,
   "metadata": {},
   "outputs": [
    {
     "name": "stdout",
     "output_type": "stream",
     "text": [
      "Epoch 1/10\n",
      "375/375 [==============================] - 16s 42ms/step - loss: 2.3016 - accuracy: 0.1120 - val_loss: 2.3020 - val_accuracy: 0.1106\n",
      "Epoch 2/10\n",
      "375/375 [==============================] - 17s 45ms/step - loss: 2.3013 - accuracy: 0.1128 - val_loss: 2.3019 - val_accuracy: 0.1106\n",
      "Epoch 3/10\n",
      "375/375 [==============================] - 22s 58ms/step - loss: 2.3012 - accuracy: 0.1128 - val_loss: 2.3023 - val_accuracy: 0.1106\n",
      "Epoch 4/10\n",
      "375/375 [==============================] - 23s 61ms/step - loss: 2.3012 - accuracy: 0.1128 - val_loss: 2.3018 - val_accuracy: 0.1106\n",
      "Epoch 5/10\n",
      "375/375 [==============================] - 23s 62ms/step - loss: 2.3012 - accuracy: 0.1128 - val_loss: 2.3018 - val_accuracy: 0.1106\n",
      "Epoch 6/10\n",
      "375/375 [==============================] - 26s 70ms/step - loss: 2.3012 - accuracy: 0.1128 - val_loss: 2.3017 - val_accuracy: 0.1106\n",
      "Epoch 7/10\n",
      "375/375 [==============================] - 25s 66ms/step - loss: 2.3011 - accuracy: 0.1128 - val_loss: 2.3018 - val_accuracy: 0.1106\n",
      "Epoch 8/10\n",
      "375/375 [==============================] - 26s 70ms/step - loss: 2.3011 - accuracy: 0.1128 - val_loss: 2.3019 - val_accuracy: 0.1106\n",
      "Epoch 9/10\n",
      "375/375 [==============================] - 26s 71ms/step - loss: 2.3011 - accuracy: 0.1128 - val_loss: 2.3019 - val_accuracy: 0.1106\n",
      "Epoch 10/10\n",
      "375/375 [==============================] - 25s 67ms/step - loss: 2.3011 - accuracy: 0.1128 - val_loss: 2.3018 - val_accuracy: 0.1106\n"
     ]
    }
   ],
   "source": [
    "# Your Code Here\n",
    "model_train = model.fit(train_X, train_label, batch_size=128, epochs=10, verbose=1, validation_data=(valid_X, valid_label))\n"
   ]
  },
  {
   "cell_type": "markdown",
   "metadata": {},
   "source": [
    "#### 1.10 (2) Plot the training and validation loss"
   ]
  },
  {
   "cell_type": "code",
   "execution_count": 23,
   "metadata": {},
   "outputs": [
    {
     "data": {
      "image/png": "[encoded data removed]",
      "text/plain": [
       "<Figure size 432x288 with 1 Axes>"
      ]
     },
     "metadata": {
      "needs_background": "light"
     },
     "output_type": "display_data"
    }
   ],
   "source": [
    "# Your Code Here\n",
    "loss = model_train.history[\"loss\"]\n",
    "val_loss = model_train.history[\"val_loss\"]\n",
    "epochs = range(10)\n",
    "\n",
    "\n",
    "plt.plot(epochs, loss, 'bo', label='Training loss')\n",
    "plt.plot(epochs, val_loss, 'b', label='Validation loss')\n",
    "plt.xlabel(\"Epoch\")\n",
    "plt.title('Training and validation loss')\n",
    "plt.legend();"
   ]
  },
  {
   "cell_type": "markdown",
   "metadata": {},
   "source": [
    "#### 1.11 (2) Evaluate the model on test set. Output the test loss and test accuracy"
   ]
  },
  {
   "cell_type": "code",
   "execution_count": 24,
   "metadata": {},
   "outputs": [
    {
     "name": "stdout",
     "output_type": "stream",
     "text": [
      "Test loss: 2.3010129928588867\n",
      "Test accuracy: 0.11349999904632568\n"
     ]
    }
   ],
   "source": [
    "# Your Code Here\n",
    "test_eval = model.evaluate(X_test, y_test_one_hot, verbose=0)\n",
    "print(f\"Test loss: {test_eval[0]}\")\n",
    "print(f\"Test accuracy: {test_eval[1]}\")\n"
   ]
  },
  {
   "cell_type": "markdown",
   "metadata": {},
   "source": [
    "#### 1.12 (2) Predict the test data. Display a confusion matrix for the predicted and true label. Print the accuracy"
   ]
  },
  {
   "cell_type": "code",
   "execution_count": 25,
   "metadata": {},
   "outputs": [
    {
     "name": "stdout",
     "output_type": "stream",
     "text": [
      "Predicted label: 0, label: 7\n"
     ]
    },
    {
     "data": {
      "text/plain": [
       "((10000,), (10000,))"
      ]
     },
     "execution_count": 25,
     "metadata": {},
     "output_type": "execute_result"
    }
   ],
   "source": [
    "# Your Code Here\n",
    "y_hat = model.predict(X_test)\n",
    "y_hat = np.argmax(np.round(y_hat),axis=1)\n",
    "print(f\"Predicted label: {y_hat[0]}, label: {y_test[0]}\")\n",
    "y_hat.shape, y_test.shape\n"
   ]
  },
  {
   "cell_type": "code",
   "execution_count": null,
   "metadata": {},
   "outputs": [],
   "source": [
    "cm = confusion_matrix(y_hat, y_test)\n",
    "print(cm)\n",
    "\n",
    "print(f\"Accuracy: {np.trace(cm)/np.sum(cm)}\")"
   ]
  }
 ],
 "metadata": {
  "kernelspec": {
   "display_name": "Python 3",
   "language": "python",
   "name": "python3"
  },
  "language_info": {
   "codemirror_mode": {
    "name": "ipython",
    "version": 3
   },
   "file_extension": ".py",
   "mimetype": "text/x-python",
   "name": "python",
   "nbconvert_exporter": "python",
   "pygments_lexer": "ipython3",
   "version": "3.8.3"
  },
  "varInspector": {
   "cols": {
    "lenName": 16,
    "lenType": 16,
    "lenVar": 40
   },
   "kernels_config": {
    "python": {
     "delete_cmd_postfix": "",
     "delete_cmd_prefix": "del ",
     "library": "var_list.py",
     "varRefreshCmd": "print(var_dic_list())"
    },
    "r": {
     "delete_cmd_postfix": ") ",
     "delete_cmd_prefix": "rm(",
     "library": "var_list.r",
     "varRefreshCmd": "cat(var_dic_list()) "
    }
   },
   "position": {
    "height": "624px",
    "left": "936px",
    "right": "20px",
    "top": "107px",
    "width": "380px"
   },
   "types_to_exclude": [
    "module",
    "function",
    "builtin_function_or_method",
    "instance",
    "_Feature"
   ],
   "window_display": false
  }
 },
 "nbformat": 4,
 "nbformat_minor": 2
}
