{
 "cells": [
  {
   "cell_type": "code",
   "execution_count": 243,
   "metadata": {},
   "outputs": [],
   "source": [
    "import warnings\n",
    "warnings.simplefilter(action='ignore', category=FutureWarning)\n",
    "warnings.simplefilter(action='ignore', category=UserWarning)\n",
    "\n",
    "import numpy as np\n",
    "import pandas as pd\n",
    "from scipy import stats\n",
    "import seaborn as sns\n",
    "import matplotlib.pyplot as plt\n",
    "%matplotlib inline"
   ]
  },
  {
   "cell_type": "code",
   "execution_count": 244,
   "metadata": {},
   "outputs": [],
   "source": [
    "from sklearn.preprocessing import LabelEncoder,OneHotEncoder,StandardScaler,MinMaxScaler\n",
    "from sklearn.model_selection import train_test_split\n",
    "from sklearn.linear_model import LinearRegression\n",
    "from sklearn.metrics import r2_score,mean_squared_error"
   ]
  },
  {
   "cell_type": "markdown",
   "metadata": {},
   "source": [
    "## Homework 1\n",
    "\n",
    "#### Due 9/29\n",
    "\n",
    "#### 30 parts, each part worth 1 point\n",
    "\n",
    "### Linear Regression Analysis of hw1 dataset\n",
    "\n",
    "#### 1. Read in hw1.csv "
   ]
  },
  {
   "cell_type": "code",
   "execution_count": 245,
   "metadata": {},
   "outputs": [
    {
     "data": {
      "text/html": [
       "<div>\n",
       "<style scoped>\n",
       "    .dataframe tbody tr th:only-of-type {\n",
       "        vertical-align: middle;\n",
       "    }\n",
       "\n",
       "    .dataframe tbody tr th {\n",
       "        vertical-align: top;\n",
       "    }\n",
       "\n",
       "    .dataframe thead th {\n",
       "        text-align: right;\n",
       "    }\n",
       "</style>\n",
       "<table border=\"1\" class=\"dataframe\">\n",
       "  <thead>\n",
       "    <tr style=\"text-align: right;\">\n",
       "      <th></th>\n",
       "      <th>name</th>\n",
       "      <th>mfr</th>\n",
       "      <th>type</th>\n",
       "      <th>calories</th>\n",
       "      <th>protein</th>\n",
       "      <th>fat</th>\n",
       "      <th>sodium</th>\n",
       "      <th>fiber</th>\n",
       "      <th>carbo</th>\n",
       "      <th>sugars</th>\n",
       "      <th>potass</th>\n",
       "      <th>vitamins</th>\n",
       "      <th>shelf</th>\n",
       "      <th>weight</th>\n",
       "      <th>cups</th>\n",
       "      <th>rating</th>\n",
       "    </tr>\n",
       "  </thead>\n",
       "  <tbody>\n",
       "    <tr>\n",
       "      <th>72</th>\n",
       "      <td>Triples</td>\n",
       "      <td>G</td>\n",
       "      <td>C</td>\n",
       "      <td>110</td>\n",
       "      <td>2</td>\n",
       "      <td>1</td>\n",
       "      <td>250</td>\n",
       "      <td>0.0</td>\n",
       "      <td>21.0</td>\n",
       "      <td>3</td>\n",
       "      <td>60</td>\n",
       "      <td>25</td>\n",
       "      <td>3</td>\n",
       "      <td>1.0</td>\n",
       "      <td>0.75</td>\n",
       "      <td>39.106174</td>\n",
       "    </tr>\n",
       "    <tr>\n",
       "      <th>73</th>\n",
       "      <td>Trix</td>\n",
       "      <td>G</td>\n",
       "      <td>C</td>\n",
       "      <td>110</td>\n",
       "      <td>1</td>\n",
       "      <td>1</td>\n",
       "      <td>140</td>\n",
       "      <td>0.0</td>\n",
       "      <td>13.0</td>\n",
       "      <td>12</td>\n",
       "      <td>25</td>\n",
       "      <td>25</td>\n",
       "      <td>2</td>\n",
       "      <td>1.0</td>\n",
       "      <td>1.00</td>\n",
       "      <td>27.753301</td>\n",
       "    </tr>\n",
       "    <tr>\n",
       "      <th>74</th>\n",
       "      <td>Wheat_Chex</td>\n",
       "      <td>R</td>\n",
       "      <td>C</td>\n",
       "      <td>100</td>\n",
       "      <td>3</td>\n",
       "      <td>1</td>\n",
       "      <td>230</td>\n",
       "      <td>3.0</td>\n",
       "      <td>17.0</td>\n",
       "      <td>3</td>\n",
       "      <td>115</td>\n",
       "      <td>25</td>\n",
       "      <td>1</td>\n",
       "      <td>1.0</td>\n",
       "      <td>0.67</td>\n",
       "      <td>49.787445</td>\n",
       "    </tr>\n",
       "    <tr>\n",
       "      <th>75</th>\n",
       "      <td>Wheaties</td>\n",
       "      <td>G</td>\n",
       "      <td>C</td>\n",
       "      <td>100</td>\n",
       "      <td>3</td>\n",
       "      <td>1</td>\n",
       "      <td>200</td>\n",
       "      <td>3.0</td>\n",
       "      <td>17.0</td>\n",
       "      <td>3</td>\n",
       "      <td>110</td>\n",
       "      <td>25</td>\n",
       "      <td>1</td>\n",
       "      <td>1.0</td>\n",
       "      <td>1.00</td>\n",
       "      <td>51.592193</td>\n",
       "    </tr>\n",
       "    <tr>\n",
       "      <th>76</th>\n",
       "      <td>Wheaties_Honey_Gold</td>\n",
       "      <td>G</td>\n",
       "      <td>C</td>\n",
       "      <td>110</td>\n",
       "      <td>2</td>\n",
       "      <td>1</td>\n",
       "      <td>200</td>\n",
       "      <td>1.0</td>\n",
       "      <td>16.0</td>\n",
       "      <td>8</td>\n",
       "      <td>60</td>\n",
       "      <td>25</td>\n",
       "      <td>1</td>\n",
       "      <td>1.0</td>\n",
       "      <td>0.75</td>\n",
       "      <td>36.187559</td>\n",
       "    </tr>\n",
       "  </tbody>\n",
       "</table>\n",
       "</div>"
      ],
      "text/plain": [
       "                   name mfr type  calories  protein  fat  sodium  fiber  \\\n",
       "72              Triples   G    C       110        2    1     250    0.0   \n",
       "73                 Trix   G    C       110        1    1     140    0.0   \n",
       "74           Wheat_Chex   R    C       100        3    1     230    3.0   \n",
       "75             Wheaties   G    C       100        3    1     200    3.0   \n",
       "76  Wheaties_Honey_Gold   G    C       110        2    1     200    1.0   \n",
       "\n",
       "    carbo  sugars  potass  vitamins  shelf  weight  cups     rating  \n",
       "72   21.0       3      60        25      3     1.0  0.75  39.106174  \n",
       "73   13.0      12      25        25      2     1.0  1.00  27.753301  \n",
       "74   17.0       3     115        25      1     1.0  0.67  49.787445  \n",
       "75   17.0       3     110        25      1     1.0  1.00  51.592193  \n",
       "76   16.0       8      60        25      1     1.0  0.75  36.187559  "
      ]
     },
     "execution_count": 245,
     "metadata": {},
     "output_type": "execute_result"
    }
   ],
   "source": [
    "df = pd.read_csv(\"hw1.csv\")# Your code here\n",
    "df.tail()"
   ]
  },
  {
   "cell_type": "markdown",
   "metadata": {},
   "source": [
    " #### The fields in the dataset are:\n",
    " \n",
    "* name: Name of cereal  \n",
    "* mfr: Manufacturer of cereal (A = American Home Food Products, G = General Mills, K = Kelloggs, N = Nabisco, P = Post, Q = Quaker Oats, R = Ralston Purina  \n",
    "* type: C: cold H:hot  \n",
    "* calories: calories per serving   \n",
    "* protein: grams of protein \n",
    "* fat: grams of fat \n",
    "* sodium: milligrams of sodium   \n",
    "* fiber: grams of dietary fiber   \n",
    "* carbo: grams of complex carbohydrates   \n",
    "* sugars: grams of sugars   \n",
    "* potass: milligrams of potassium   \n",
    "* vitamins: vitamins and minerals - 0, 25, or 100, indicating the typical percentage of FDA recommended   \n",
    "* shelf: display shelf (1, 2, or 3, counting from the floor)   \n",
    "* weight: weight in ounces of one serving   \n",
    "* cups: number of cups in one serving   \n",
    "* rating: a rating of the cereals (Possibly from Consumer Reports?)  \n",
    "\n"
   ]
  },
  {
   "cell_type": "markdown",
   "metadata": {},
   "source": [
    "### Goal of the analysis\n",
    "\n",
    "The goal of this linear regression model to to predict the customer **rating** of the cereals based on the features given in the columns. We want the simplest model that explains the data.\n",
    "\n",
    "The first step is an exploratory analysis. Looking a the features listed above, lets eliminate name, type,weight and cups from the model. "
   ]
  },
  {
   "cell_type": "markdown",
   "metadata": {},
   "source": [
    "#### 2. Create a new dataframe without name, type,weight and cups "
   ]
  },
  {
   "cell_type": "code",
   "execution_count": 246,
   "metadata": {},
   "outputs": [
    {
     "data": {
      "text/html": [
       "<div>\n",
       "<style scoped>\n",
       "    .dataframe tbody tr th:only-of-type {\n",
       "        vertical-align: middle;\n",
       "    }\n",
       "\n",
       "    .dataframe tbody tr th {\n",
       "        vertical-align: top;\n",
       "    }\n",
       "\n",
       "    .dataframe thead th {\n",
       "        text-align: right;\n",
       "    }\n",
       "</style>\n",
       "<table border=\"1\" class=\"dataframe\">\n",
       "  <thead>\n",
       "    <tr style=\"text-align: right;\">\n",
       "      <th></th>\n",
       "      <th>mfr</th>\n",
       "      <th>calories</th>\n",
       "      <th>protein</th>\n",
       "      <th>fat</th>\n",
       "      <th>sodium</th>\n",
       "      <th>fiber</th>\n",
       "      <th>carbo</th>\n",
       "      <th>sugars</th>\n",
       "      <th>potass</th>\n",
       "      <th>vitamins</th>\n",
       "      <th>shelf</th>\n",
       "      <th>rating</th>\n",
       "    </tr>\n",
       "  </thead>\n",
       "  <tbody>\n",
       "    <tr>\n",
       "      <th>0</th>\n",
       "      <td>N</td>\n",
       "      <td>70</td>\n",
       "      <td>4</td>\n",
       "      <td>1</td>\n",
       "      <td>130</td>\n",
       "      <td>10.0</td>\n",
       "      <td>5.0</td>\n",
       "      <td>6</td>\n",
       "      <td>280</td>\n",
       "      <td>25</td>\n",
       "      <td>3</td>\n",
       "      <td>68.402973</td>\n",
       "    </tr>\n",
       "    <tr>\n",
       "      <th>1</th>\n",
       "      <td>Q</td>\n",
       "      <td>120</td>\n",
       "      <td>3</td>\n",
       "      <td>5</td>\n",
       "      <td>15</td>\n",
       "      <td>2.0</td>\n",
       "      <td>8.0</td>\n",
       "      <td>8</td>\n",
       "      <td>135</td>\n",
       "      <td>0</td>\n",
       "      <td>3</td>\n",
       "      <td>33.983679</td>\n",
       "    </tr>\n",
       "    <tr>\n",
       "      <th>2</th>\n",
       "      <td>K</td>\n",
       "      <td>70</td>\n",
       "      <td>4</td>\n",
       "      <td>1</td>\n",
       "      <td>260</td>\n",
       "      <td>9.0</td>\n",
       "      <td>7.0</td>\n",
       "      <td>5</td>\n",
       "      <td>320</td>\n",
       "      <td>25</td>\n",
       "      <td>3</td>\n",
       "      <td>59.425505</td>\n",
       "    </tr>\n",
       "    <tr>\n",
       "      <th>3</th>\n",
       "      <td>K</td>\n",
       "      <td>50</td>\n",
       "      <td>4</td>\n",
       "      <td>0</td>\n",
       "      <td>140</td>\n",
       "      <td>14.0</td>\n",
       "      <td>8.0</td>\n",
       "      <td>0</td>\n",
       "      <td>330</td>\n",
       "      <td>25</td>\n",
       "      <td>3</td>\n",
       "      <td>93.704912</td>\n",
       "    </tr>\n",
       "    <tr>\n",
       "      <th>4</th>\n",
       "      <td>R</td>\n",
       "      <td>110</td>\n",
       "      <td>2</td>\n",
       "      <td>2</td>\n",
       "      <td>200</td>\n",
       "      <td>1.0</td>\n",
       "      <td>14.0</td>\n",
       "      <td>8</td>\n",
       "      <td>-1</td>\n",
       "      <td>25</td>\n",
       "      <td>3</td>\n",
       "      <td>34.384843</td>\n",
       "    </tr>\n",
       "  </tbody>\n",
       "</table>\n",
       "</div>"
      ],
      "text/plain": [
       "  mfr  calories  protein  fat  sodium  fiber  carbo  sugars  potass  vitamins  \\\n",
       "0   N        70        4    1     130   10.0    5.0       6     280        25   \n",
       "1   Q       120        3    5      15    2.0    8.0       8     135         0   \n",
       "2   K        70        4    1     260    9.0    7.0       5     320        25   \n",
       "3   K        50        4    0     140   14.0    8.0       0     330        25   \n",
       "4   R       110        2    2     200    1.0   14.0       8      -1        25   \n",
       "\n",
       "   shelf     rating  \n",
       "0      3  68.402973  \n",
       "1      3  33.983679  \n",
       "2      3  59.425505  \n",
       "3      3  93.704912  \n",
       "4      3  34.384843  "
      ]
     },
     "execution_count": 246,
     "metadata": {},
     "output_type": "execute_result"
    }
   ],
   "source": [
    "df = df.drop([\"name\", \"type\", \"weight\", \"cups\"], axis=1)# Your code here\n",
    "df.head()"
   ]
  },
  {
   "cell_type": "markdown",
   "metadata": {},
   "source": [
    "### Clean the data.\n",
    "\n",
    "Notice that potass has a value of -1 which clearly is not valid.\n",
    "\n",
    "#### 3. Do any other columns have -1?"
   ]
  },
  {
   "cell_type": "code",
   "execution_count": 247,
   "metadata": {},
   "outputs": [
    {
     "name": "stdout",
     "output_type": "stream",
     "text": [
      "carbo\n",
      "sugars\n",
      "potass\n"
     ]
    }
   ],
   "source": [
    "for var in df.columns:\n",
    "    if any([True for val in df[var] if val==-1]):# Your code here\n",
    "        print(var)\n",
    "        "
   ]
  },
  {
   "cell_type": "markdown",
   "metadata": {},
   "source": [
    "#### 4. Replace negative values in carbo,sugars and potass with np.NaN\n"
   ]
  },
  {
   "cell_type": "code",
   "execution_count": 248,
   "metadata": {},
   "outputs": [
    {
     "data": {
      "text/html": [
       "<div>\n",
       "<style scoped>\n",
       "    .dataframe tbody tr th:only-of-type {\n",
       "        vertical-align: middle;\n",
       "    }\n",
       "\n",
       "    .dataframe tbody tr th {\n",
       "        vertical-align: top;\n",
       "    }\n",
       "\n",
       "    .dataframe thead th {\n",
       "        text-align: right;\n",
       "    }\n",
       "</style>\n",
       "<table border=\"1\" class=\"dataframe\">\n",
       "  <thead>\n",
       "    <tr style=\"text-align: right;\">\n",
       "      <th></th>\n",
       "      <th>mfr</th>\n",
       "      <th>calories</th>\n",
       "      <th>protein</th>\n",
       "      <th>fat</th>\n",
       "      <th>sodium</th>\n",
       "      <th>fiber</th>\n",
       "      <th>carbo</th>\n",
       "      <th>sugars</th>\n",
       "      <th>potass</th>\n",
       "      <th>vitamins</th>\n",
       "      <th>shelf</th>\n",
       "      <th>rating</th>\n",
       "    </tr>\n",
       "  </thead>\n",
       "  <tbody>\n",
       "    <tr>\n",
       "      <th>0</th>\n",
       "      <td>N</td>\n",
       "      <td>70</td>\n",
       "      <td>4</td>\n",
       "      <td>1</td>\n",
       "      <td>130</td>\n",
       "      <td>10.0</td>\n",
       "      <td>5.0</td>\n",
       "      <td>6.0</td>\n",
       "      <td>280.0</td>\n",
       "      <td>25</td>\n",
       "      <td>3</td>\n",
       "      <td>68.402973</td>\n",
       "    </tr>\n",
       "    <tr>\n",
       "      <th>1</th>\n",
       "      <td>Q</td>\n",
       "      <td>120</td>\n",
       "      <td>3</td>\n",
       "      <td>5</td>\n",
       "      <td>15</td>\n",
       "      <td>2.0</td>\n",
       "      <td>8.0</td>\n",
       "      <td>8.0</td>\n",
       "      <td>135.0</td>\n",
       "      <td>0</td>\n",
       "      <td>3</td>\n",
       "      <td>33.983679</td>\n",
       "    </tr>\n",
       "    <tr>\n",
       "      <th>2</th>\n",
       "      <td>K</td>\n",
       "      <td>70</td>\n",
       "      <td>4</td>\n",
       "      <td>1</td>\n",
       "      <td>260</td>\n",
       "      <td>9.0</td>\n",
       "      <td>7.0</td>\n",
       "      <td>5.0</td>\n",
       "      <td>320.0</td>\n",
       "      <td>25</td>\n",
       "      <td>3</td>\n",
       "      <td>59.425505</td>\n",
       "    </tr>\n",
       "    <tr>\n",
       "      <th>3</th>\n",
       "      <td>K</td>\n",
       "      <td>50</td>\n",
       "      <td>4</td>\n",
       "      <td>0</td>\n",
       "      <td>140</td>\n",
       "      <td>14.0</td>\n",
       "      <td>8.0</td>\n",
       "      <td>0.0</td>\n",
       "      <td>330.0</td>\n",
       "      <td>25</td>\n",
       "      <td>3</td>\n",
       "      <td>93.704912</td>\n",
       "    </tr>\n",
       "    <tr>\n",
       "      <th>4</th>\n",
       "      <td>R</td>\n",
       "      <td>110</td>\n",
       "      <td>2</td>\n",
       "      <td>2</td>\n",
       "      <td>200</td>\n",
       "      <td>1.0</td>\n",
       "      <td>14.0</td>\n",
       "      <td>8.0</td>\n",
       "      <td>NaN</td>\n",
       "      <td>25</td>\n",
       "      <td>3</td>\n",
       "      <td>34.384843</td>\n",
       "    </tr>\n",
       "  </tbody>\n",
       "</table>\n",
       "</div>"
      ],
      "text/plain": [
       "  mfr  calories  protein  fat  sodium  fiber  carbo  sugars  potass  vitamins  \\\n",
       "0   N        70        4    1     130   10.0    5.0     6.0   280.0        25   \n",
       "1   Q       120        3    5      15    2.0    8.0     8.0   135.0         0   \n",
       "2   K        70        4    1     260    9.0    7.0     5.0   320.0        25   \n",
       "3   K        50        4    0     140   14.0    8.0     0.0   330.0        25   \n",
       "4   R       110        2    2     200    1.0   14.0     8.0     NaN        25   \n",
       "\n",
       "   shelf     rating  \n",
       "0      3  68.402973  \n",
       "1      3  33.983679  \n",
       "2      3  59.425505  \n",
       "3      3  93.704912  \n",
       "4      3  34.384843  "
      ]
     },
     "execution_count": 248,
     "metadata": {},
     "output_type": "execute_result"
    }
   ],
   "source": [
    "df.replace(to_replace=-1,value=np.nan, inplace=True)# Your code here\n",
    "df.head()"
   ]
  },
  {
   "cell_type": "markdown",
   "metadata": {},
   "source": [
    "#### 5. Check for null values"
   ]
  },
  {
   "cell_type": "code",
   "execution_count": 249,
   "metadata": {
    "scrolled": true
   },
   "outputs": [
    {
     "name": "stdout",
     "output_type": "stream",
     "text": [
      "carbo\n",
      "sugars\n",
      "potass\n"
     ]
    }
   ],
   "source": [
    "for var in df.columns:\n",
    "    if df[var].isnull().values.any():\n",
    "        print(var)# Your code here"
   ]
  },
  {
   "cell_type": "markdown",
   "metadata": {},
   "source": [
    "#### 6. Drop rows with null values"
   ]
  },
  {
   "cell_type": "code",
   "execution_count": 250,
   "metadata": {},
   "outputs": [],
   "source": [
    "df = df.dropna()# Your code here"
   ]
  },
  {
   "cell_type": "markdown",
   "metadata": {},
   "source": [
    "### Descriptive Statistics"
   ]
  },
  {
   "cell_type": "markdown",
   "metadata": {},
   "source": [
    "#### 7. Summarize the data with the pandas describe function"
   ]
  },
  {
   "cell_type": "code",
   "execution_count": 251,
   "metadata": {},
   "outputs": [
    {
     "data": {
      "text/html": [
       "<div>\n",
       "<style scoped>\n",
       "    .dataframe tbody tr th:only-of-type {\n",
       "        vertical-align: middle;\n",
       "    }\n",
       "\n",
       "    .dataframe tbody tr th {\n",
       "        vertical-align: top;\n",
       "    }\n",
       "\n",
       "    .dataframe thead th {\n",
       "        text-align: right;\n",
       "    }\n",
       "</style>\n",
       "<table border=\"1\" class=\"dataframe\">\n",
       "  <thead>\n",
       "    <tr style=\"text-align: right;\">\n",
       "      <th></th>\n",
       "      <th>calories</th>\n",
       "      <th>protein</th>\n",
       "      <th>fat</th>\n",
       "      <th>sodium</th>\n",
       "      <th>fiber</th>\n",
       "      <th>carbo</th>\n",
       "      <th>sugars</th>\n",
       "      <th>potass</th>\n",
       "      <th>vitamins</th>\n",
       "      <th>shelf</th>\n",
       "      <th>rating</th>\n",
       "    </tr>\n",
       "  </thead>\n",
       "  <tbody>\n",
       "    <tr>\n",
       "      <th>count</th>\n",
       "      <td>74.000000</td>\n",
       "      <td>74.000000</td>\n",
       "      <td>74.000000</td>\n",
       "      <td>74.000000</td>\n",
       "      <td>74.000000</td>\n",
       "      <td>74.000000</td>\n",
       "      <td>74.000000</td>\n",
       "      <td>74.000000</td>\n",
       "      <td>74.000000</td>\n",
       "      <td>74.000000</td>\n",
       "      <td>74.000000</td>\n",
       "    </tr>\n",
       "    <tr>\n",
       "      <th>mean</th>\n",
       "      <td>107.027027</td>\n",
       "      <td>2.513514</td>\n",
       "      <td>1.000000</td>\n",
       "      <td>162.364865</td>\n",
       "      <td>2.175676</td>\n",
       "      <td>14.729730</td>\n",
       "      <td>7.108108</td>\n",
       "      <td>98.513514</td>\n",
       "      <td>29.054054</td>\n",
       "      <td>2.216216</td>\n",
       "      <td>42.371787</td>\n",
       "    </tr>\n",
       "    <tr>\n",
       "      <th>std</th>\n",
       "      <td>19.843893</td>\n",
       "      <td>1.075802</td>\n",
       "      <td>1.006826</td>\n",
       "      <td>82.769787</td>\n",
       "      <td>2.423391</td>\n",
       "      <td>3.891675</td>\n",
       "      <td>4.359111</td>\n",
       "      <td>70.878681</td>\n",
       "      <td>22.294352</td>\n",
       "      <td>0.832067</td>\n",
       "      <td>14.033712</td>\n",
       "    </tr>\n",
       "    <tr>\n",
       "      <th>min</th>\n",
       "      <td>50.000000</td>\n",
       "      <td>1.000000</td>\n",
       "      <td>0.000000</td>\n",
       "      <td>0.000000</td>\n",
       "      <td>0.000000</td>\n",
       "      <td>5.000000</td>\n",
       "      <td>0.000000</td>\n",
       "      <td>15.000000</td>\n",
       "      <td>0.000000</td>\n",
       "      <td>1.000000</td>\n",
       "      <td>18.042851</td>\n",
       "    </tr>\n",
       "    <tr>\n",
       "      <th>25%</th>\n",
       "      <td>100.000000</td>\n",
       "      <td>2.000000</td>\n",
       "      <td>0.000000</td>\n",
       "      <td>135.000000</td>\n",
       "      <td>0.250000</td>\n",
       "      <td>12.000000</td>\n",
       "      <td>3.000000</td>\n",
       "      <td>41.250000</td>\n",
       "      <td>25.000000</td>\n",
       "      <td>1.250000</td>\n",
       "      <td>32.449210</td>\n",
       "    </tr>\n",
       "    <tr>\n",
       "      <th>50%</th>\n",
       "      <td>110.000000</td>\n",
       "      <td>2.500000</td>\n",
       "      <td>1.000000</td>\n",
       "      <td>180.000000</td>\n",
       "      <td>2.000000</td>\n",
       "      <td>14.500000</td>\n",
       "      <td>7.000000</td>\n",
       "      <td>90.000000</td>\n",
       "      <td>25.000000</td>\n",
       "      <td>2.000000</td>\n",
       "      <td>40.253087</td>\n",
       "    </tr>\n",
       "    <tr>\n",
       "      <th>75%</th>\n",
       "      <td>110.000000</td>\n",
       "      <td>3.000000</td>\n",
       "      <td>1.000000</td>\n",
       "      <td>217.500000</td>\n",
       "      <td>3.000000</td>\n",
       "      <td>17.000000</td>\n",
       "      <td>11.000000</td>\n",
       "      <td>120.000000</td>\n",
       "      <td>25.000000</td>\n",
       "      <td>3.000000</td>\n",
       "      <td>50.520610</td>\n",
       "    </tr>\n",
       "    <tr>\n",
       "      <th>max</th>\n",
       "      <td>160.000000</td>\n",
       "      <td>6.000000</td>\n",
       "      <td>5.000000</td>\n",
       "      <td>320.000000</td>\n",
       "      <td>14.000000</td>\n",
       "      <td>23.000000</td>\n",
       "      <td>15.000000</td>\n",
       "      <td>330.000000</td>\n",
       "      <td>100.000000</td>\n",
       "      <td>3.000000</td>\n",
       "      <td>93.704912</td>\n",
       "    </tr>\n",
       "  </tbody>\n",
       "</table>\n",
       "</div>"
      ],
      "text/plain": [
       "         calories    protein        fat      sodium      fiber      carbo  \\\n",
       "count   74.000000  74.000000  74.000000   74.000000  74.000000  74.000000   \n",
       "mean   107.027027   2.513514   1.000000  162.364865   2.175676  14.729730   \n",
       "std     19.843893   1.075802   1.006826   82.769787   2.423391   3.891675   \n",
       "min     50.000000   1.000000   0.000000    0.000000   0.000000   5.000000   \n",
       "25%    100.000000   2.000000   0.000000  135.000000   0.250000  12.000000   \n",
       "50%    110.000000   2.500000   1.000000  180.000000   2.000000  14.500000   \n",
       "75%    110.000000   3.000000   1.000000  217.500000   3.000000  17.000000   \n",
       "max    160.000000   6.000000   5.000000  320.000000  14.000000  23.000000   \n",
       "\n",
       "          sugars      potass    vitamins      shelf     rating  \n",
       "count  74.000000   74.000000   74.000000  74.000000  74.000000  \n",
       "mean    7.108108   98.513514   29.054054   2.216216  42.371787  \n",
       "std     4.359111   70.878681   22.294352   0.832067  14.033712  \n",
       "min     0.000000   15.000000    0.000000   1.000000  18.042851  \n",
       "25%     3.000000   41.250000   25.000000   1.250000  32.449210  \n",
       "50%     7.000000   90.000000   25.000000   2.000000  40.253087  \n",
       "75%    11.000000  120.000000   25.000000   3.000000  50.520610  \n",
       "max    15.000000  330.000000  100.000000   3.000000  93.704912  "
      ]
     },
     "execution_count": 251,
     "metadata": {},
     "output_type": "execute_result"
    }
   ],
   "source": [
    "df.describe()# Your code here"
   ]
  },
  {
   "cell_type": "markdown",
   "metadata": {},
   "source": [
    "#### Lets look at levels of the categorical variable shelf\n"
   ]
  },
  {
   "cell_type": "code",
   "execution_count": 252,
   "metadata": {},
   "outputs": [
    {
     "data": {
      "text/html": [
       "<div>\n",
       "<style scoped>\n",
       "    .dataframe tbody tr th:only-of-type {\n",
       "        vertical-align: middle;\n",
       "    }\n",
       "\n",
       "    .dataframe tbody tr th {\n",
       "        vertical-align: top;\n",
       "    }\n",
       "\n",
       "    .dataframe thead th {\n",
       "        text-align: right;\n",
       "    }\n",
       "</style>\n",
       "<table border=\"1\" class=\"dataframe\">\n",
       "  <thead>\n",
       "    <tr style=\"text-align: right;\">\n",
       "      <th></th>\n",
       "      <th>calories</th>\n",
       "      <th>protein</th>\n",
       "      <th>fat</th>\n",
       "      <th>sodium</th>\n",
       "      <th>fiber</th>\n",
       "      <th>carbo</th>\n",
       "      <th>sugars</th>\n",
       "      <th>potass</th>\n",
       "      <th>vitamins</th>\n",
       "      <th>rating</th>\n",
       "    </tr>\n",
       "    <tr>\n",
       "      <th>shelf</th>\n",
       "      <th></th>\n",
       "      <th></th>\n",
       "      <th></th>\n",
       "      <th></th>\n",
       "      <th></th>\n",
       "      <th></th>\n",
       "      <th></th>\n",
       "      <th></th>\n",
       "      <th></th>\n",
       "      <th></th>\n",
       "    </tr>\n",
       "  </thead>\n",
       "  <tbody>\n",
       "    <tr>\n",
       "      <th>1</th>\n",
       "      <td>110</td>\n",
       "      <td>2</td>\n",
       "      <td>0</td>\n",
       "      <td>200</td>\n",
       "      <td>1.5</td>\n",
       "      <td>16.0</td>\n",
       "      <td>3.0</td>\n",
       "      <td>70.0</td>\n",
       "      <td>25</td>\n",
       "      <td>41.998933</td>\n",
       "    </tr>\n",
       "    <tr>\n",
       "      <th>2</th>\n",
       "      <td>110</td>\n",
       "      <td>2</td>\n",
       "      <td>1</td>\n",
       "      <td>165</td>\n",
       "      <td>0.0</td>\n",
       "      <td>13.0</td>\n",
       "      <td>12.0</td>\n",
       "      <td>45.0</td>\n",
       "      <td>25</td>\n",
       "      <td>30.577169</td>\n",
       "    </tr>\n",
       "    <tr>\n",
       "      <th>3</th>\n",
       "      <td>110</td>\n",
       "      <td>3</td>\n",
       "      <td>1</td>\n",
       "      <td>170</td>\n",
       "      <td>3.0</td>\n",
       "      <td>15.0</td>\n",
       "      <td>6.0</td>\n",
       "      <td>110.0</td>\n",
       "      <td>25</td>\n",
       "      <td>40.917047</td>\n",
       "    </tr>\n",
       "  </tbody>\n",
       "</table>\n",
       "</div>"
      ],
      "text/plain": [
       "       calories  protein  fat  sodium  fiber  carbo  sugars  potass  vitamins  \\\n",
       "shelf                                                                           \n",
       "1           110        2    0     200    1.5   16.0     3.0    70.0        25   \n",
       "2           110        2    1     165    0.0   13.0    12.0    45.0        25   \n",
       "3           110        3    1     170    3.0   15.0     6.0   110.0        25   \n",
       "\n",
       "          rating  \n",
       "shelf             \n",
       "1      41.998933  \n",
       "2      30.577169  \n",
       "3      40.917047  "
      ]
     },
     "execution_count": 252,
     "metadata": {},
     "output_type": "execute_result"
    }
   ],
   "source": [
    "df.groupby(by=['shelf']).median()"
   ]
  },
  {
   "cell_type": "markdown",
   "metadata": {},
   "source": [
    "#### 8. Create a boxplot for the dependent variable as a function of shelf"
   ]
  },
  {
   "cell_type": "code",
   "execution_count": 253,
   "metadata": {},
   "outputs": [
    {
     "data": {
      "text/plain": [
       "<matplotlib.axes._subplots.AxesSubplot at 0x19de41550b8>"
      ]
     },
     "execution_count": 253,
     "metadata": {},
     "output_type": "execute_result"
    },
    {
     "data": {
      "image/png": "[encoded data removed]",
      "text/plain": [
       "<Figure size 432x288 with 1 Axes>"
      ]
     },
     "metadata": {
      "needs_background": "light"
     },
     "output_type": "display_data"
    }
   ],
   "source": [
    "df.boxplot(column=\"rating\", by=\"shelf\")# Your code here"
   ]
  },
  {
   "cell_type": "markdown",
   "metadata": {},
   "source": [
    "#### 9. Create a seaborn pairplot of all the variables with a 'kde' diagonal\n",
    "\n",
    "This will take some time to execute"
   ]
  },
  {
   "cell_type": "code",
   "execution_count": 254,
   "metadata": {},
   "outputs": [
    {
     "data": {
      "text/plain": [
       "<seaborn.axisgrid.PairGrid at 0x19de41c5f28>"
      ]
     },
     "execution_count": 254,
     "metadata": {},
     "output_type": "execute_result"
    },
    {
     "data": {
      "image/png": "[encoded data removed]",
      "text/plain": [
       "<Figure size 1980x1980 with 132 Axes>"
      ]
     },
     "metadata": {
      "needs_background": "light"
     },
     "output_type": "display_data"
    }
   ],
   "source": [
    "sns.pairplot(data=df, kind=\"kde\")# Your code here"
   ]
  },
  {
   "cell_type": "markdown",
   "metadata": {},
   "source": [
    "#### 10. Create a correlation matrix for all the non-categorical variables"
   ]
  },
  {
   "cell_type": "code",
   "execution_count": 255,
   "metadata": {},
   "outputs": [
    {
     "data": {
      "text/html": [
       "<div>\n",
       "<style scoped>\n",
       "    .dataframe tbody tr th:only-of-type {\n",
       "        vertical-align: middle;\n",
       "    }\n",
       "\n",
       "    .dataframe tbody tr th {\n",
       "        vertical-align: top;\n",
       "    }\n",
       "\n",
       "    .dataframe thead th {\n",
       "        text-align: right;\n",
       "    }\n",
       "</style>\n",
       "<table border=\"1\" class=\"dataframe\">\n",
       "  <thead>\n",
       "    <tr style=\"text-align: right;\">\n",
       "      <th></th>\n",
       "      <th>calories</th>\n",
       "      <th>protein</th>\n",
       "      <th>fat</th>\n",
       "      <th>sodium</th>\n",
       "      <th>fiber</th>\n",
       "      <th>carbo</th>\n",
       "      <th>sugars</th>\n",
       "      <th>potass</th>\n",
       "      <th>vitamins</th>\n",
       "      <th>rating</th>\n",
       "    </tr>\n",
       "  </thead>\n",
       "  <tbody>\n",
       "    <tr>\n",
       "      <th>calories</th>\n",
       "      <td>1.000000</td>\n",
       "      <td>0.033992</td>\n",
       "      <td>0.507373</td>\n",
       "      <td>0.296247</td>\n",
       "      <td>-0.295212</td>\n",
       "      <td>0.270606</td>\n",
       "      <td>0.569121</td>\n",
       "      <td>-0.071361</td>\n",
       "      <td>0.259846</td>\n",
       "      <td>-0.693785</td>\n",
       "    </tr>\n",
       "    <tr>\n",
       "      <th>protein</th>\n",
       "      <td>0.033992</td>\n",
       "      <td>1.000000</td>\n",
       "      <td>0.202353</td>\n",
       "      <td>0.011559</td>\n",
       "      <td>0.514006</td>\n",
       "      <td>-0.036743</td>\n",
       "      <td>-0.286584</td>\n",
       "      <td>0.578743</td>\n",
       "      <td>0.054800</td>\n",
       "      <td>0.467162</td>\n",
       "    </tr>\n",
       "    <tr>\n",
       "      <th>fat</th>\n",
       "      <td>0.507373</td>\n",
       "      <td>0.202353</td>\n",
       "      <td>1.000000</td>\n",
       "      <td>0.000822</td>\n",
       "      <td>0.014036</td>\n",
       "      <td>-0.284934</td>\n",
       "      <td>0.287152</td>\n",
       "      <td>0.199637</td>\n",
       "      <td>-0.030514</td>\n",
       "      <td>-0.405050</td>\n",
       "    </tr>\n",
       "    <tr>\n",
       "      <th>sodium</th>\n",
       "      <td>0.296247</td>\n",
       "      <td>0.011559</td>\n",
       "      <td>0.000822</td>\n",
       "      <td>1.000000</td>\n",
       "      <td>-0.070735</td>\n",
       "      <td>0.328409</td>\n",
       "      <td>0.037059</td>\n",
       "      <td>-0.039438</td>\n",
       "      <td>0.331576</td>\n",
       "      <td>-0.383012</td>\n",
       "    </tr>\n",
       "    <tr>\n",
       "      <th>fiber</th>\n",
       "      <td>-0.295212</td>\n",
       "      <td>0.514006</td>\n",
       "      <td>0.014036</td>\n",
       "      <td>-0.070735</td>\n",
       "      <td>1.000000</td>\n",
       "      <td>-0.379084</td>\n",
       "      <td>-0.150949</td>\n",
       "      <td>0.911504</td>\n",
       "      <td>-0.038717</td>\n",
       "      <td>0.603411</td>\n",
       "    </tr>\n",
       "    <tr>\n",
       "      <th>carbo</th>\n",
       "      <td>0.270606</td>\n",
       "      <td>-0.036743</td>\n",
       "      <td>-0.284934</td>\n",
       "      <td>0.328409</td>\n",
       "      <td>-0.379084</td>\n",
       "      <td>1.000000</td>\n",
       "      <td>-0.452069</td>\n",
       "      <td>-0.365003</td>\n",
       "      <td>0.253579</td>\n",
       "      <td>0.055941</td>\n",
       "    </tr>\n",
       "    <tr>\n",
       "      <th>sugars</th>\n",
       "      <td>0.569121</td>\n",
       "      <td>-0.286584</td>\n",
       "      <td>0.287152</td>\n",
       "      <td>0.037059</td>\n",
       "      <td>-0.150949</td>\n",
       "      <td>-0.452069</td>\n",
       "      <td>1.000000</td>\n",
       "      <td>0.001414</td>\n",
       "      <td>0.072954</td>\n",
       "      <td>-0.755955</td>\n",
       "    </tr>\n",
       "    <tr>\n",
       "      <th>potass</th>\n",
       "      <td>-0.071361</td>\n",
       "      <td>0.578743</td>\n",
       "      <td>0.199637</td>\n",
       "      <td>-0.039438</td>\n",
       "      <td>0.911504</td>\n",
       "      <td>-0.365003</td>\n",
       "      <td>0.001414</td>\n",
       "      <td>1.000000</td>\n",
       "      <td>-0.002636</td>\n",
       "      <td>0.415782</td>\n",
       "    </tr>\n",
       "    <tr>\n",
       "      <th>vitamins</th>\n",
       "      <td>0.259846</td>\n",
       "      <td>0.054800</td>\n",
       "      <td>-0.030514</td>\n",
       "      <td>0.331576</td>\n",
       "      <td>-0.038717</td>\n",
       "      <td>0.253579</td>\n",
       "      <td>0.072954</td>\n",
       "      <td>-0.002636</td>\n",
       "      <td>1.000000</td>\n",
       "      <td>-0.214481</td>\n",
       "    </tr>\n",
       "    <tr>\n",
       "      <th>rating</th>\n",
       "      <td>-0.693785</td>\n",
       "      <td>0.467162</td>\n",
       "      <td>-0.405050</td>\n",
       "      <td>-0.383012</td>\n",
       "      <td>0.603411</td>\n",
       "      <td>0.055941</td>\n",
       "      <td>-0.755955</td>\n",
       "      <td>0.415782</td>\n",
       "      <td>-0.214481</td>\n",
       "      <td>1.000000</td>\n",
       "    </tr>\n",
       "  </tbody>\n",
       "</table>\n",
       "</div>"
      ],
      "text/plain": [
       "          calories   protein       fat    sodium     fiber     carbo  \\\n",
       "calories  1.000000  0.033992  0.507373  0.296247 -0.295212  0.270606   \n",
       "protein   0.033992  1.000000  0.202353  0.011559  0.514006 -0.036743   \n",
       "fat       0.507373  0.202353  1.000000  0.000822  0.014036 -0.284934   \n",
       "sodium    0.296247  0.011559  0.000822  1.000000 -0.070735  0.328409   \n",
       "fiber    -0.295212  0.514006  0.014036 -0.070735  1.000000 -0.379084   \n",
       "carbo     0.270606 -0.036743 -0.284934  0.328409 -0.379084  1.000000   \n",
       "sugars    0.569121 -0.286584  0.287152  0.037059 -0.150949 -0.452069   \n",
       "potass   -0.071361  0.578743  0.199637 -0.039438  0.911504 -0.365003   \n",
       "vitamins  0.259846  0.054800 -0.030514  0.331576 -0.038717  0.253579   \n",
       "rating   -0.693785  0.467162 -0.405050 -0.383012  0.603411  0.055941   \n",
       "\n",
       "            sugars    potass  vitamins    rating  \n",
       "calories  0.569121 -0.071361  0.259846 -0.693785  \n",
       "protein  -0.286584  0.578743  0.054800  0.467162  \n",
       "fat       0.287152  0.199637 -0.030514 -0.405050  \n",
       "sodium    0.037059 -0.039438  0.331576 -0.383012  \n",
       "fiber    -0.150949  0.911504 -0.038717  0.603411  \n",
       "carbo    -0.452069 -0.365003  0.253579  0.055941  \n",
       "sugars    1.000000  0.001414  0.072954 -0.755955  \n",
       "potass    0.001414  1.000000 -0.002636  0.415782  \n",
       "vitamins  0.072954 -0.002636  1.000000 -0.214481  \n",
       "rating   -0.755955  0.415782 -0.214481  1.000000  "
      ]
     },
     "execution_count": 255,
     "metadata": {},
     "output_type": "execute_result"
    }
   ],
   "source": [
    "df.drop([\"shelf\"], axis=1).corr()# Your code here"
   ]
  },
  {
   "cell_type": "markdown",
   "metadata": {},
   "source": [
    "#### 11. Create a seaborn distribution plot of the dependent variable"
   ]
  },
  {
   "cell_type": "code",
   "execution_count": 256,
   "metadata": {},
   "outputs": [
    {
     "data": {
      "text/plain": [
       "<matplotlib.axes._subplots.AxesSubplot at 0x19de75e3278>"
      ]
     },
     "execution_count": 256,
     "metadata": {},
     "output_type": "execute_result"
    },
    {
     "data": {
      "image/png": "[encoded data removed]",
      "text/plain": [
       "<Figure size 432x288 with 1 Axes>"
      ]
     },
     "metadata": {
      "needs_background": "light"
     },
     "output_type": "display_data"
    }
   ],
   "source": [
    "sns.distplot(pd.to_numeric(df[\"rating\"]))# Your code here"
   ]
  },
  {
   "cell_type": "markdown",
   "metadata": {},
   "source": [
    "### Data Preprocessing & Model"
   ]
  },
  {
   "cell_type": "markdown",
   "metadata": {},
   "source": [
    "#### 12-21 Run model function\n",
    "\n",
    "To facilitate running the Linear Regression multiple times, complete the code in the function below."
   ]
  },
  {
   "cell_type": "code",
   "execution_count": 257,
   "metadata": {},
   "outputs": [],
   "source": [
    "def run_model(df, target, feats, feats_scale=False):  \n",
    "    ''' Parameters:\n",
    "            df: the dataframe containing the features and the target\n",
    "            target: the target variable name as a string\n",
    "            feats: a list of feature names as strings\n",
    "            feats_scale: a list of feature names as strings to scale or False\n",
    "        Returns:\n",
    "            the intercept, coefficient(s), predictions, y_test and R-squared\n",
    "        '''\n",
    "    \n",
    "    X = df.loc[:,feats].values# 12. Your code here\n",
    "    y = df[target].values# 13. Your code here\n",
    "    \n",
    "    X_train, X_test, y_train, y_test = train_test_split(X,y)# 14. Your code here (do not use a random seed)\n",
    "    print(X_train.shape, X_test.shape, y_train.shape, y_test.shape)\n",
    "        \n",
    "    if feats_scale:  # Scale the data if requested\n",
    "        scale_idxs = list(map(feats.index,feats_scale))  # converts list of names to indexes\n",
    "        scaler = StandardScaler()\n",
    "        X_train[:,scale_idxs] = scaler.fit_transform(X_train[:,scale_idxs])\n",
    "# 15-16 Your code here\n",
    "    \n",
    "    model = LinearRegression()# 17. Your code here #Instantiate the model\n",
    "    model.fit(X_train, y_train)#18. Your code here # Fit model to the training data\n",
    "\n",
    "    yhat = model.predict(X_test)# 19.Your code here #Predict the test data\n",
    "    \n",
    "    r2 = stats.pearsonr(X_test[:,0], y_test)[0] ** 2# 20.Your code here   #Calculate R-squared for the test data\n",
    "    \n",
    "    return model.intercept_, model.coef_, yhat, r2, (X_train,X_test,y_train,y_test)# 21. Your code here  # return the intercept, coefficient(s), predictions, y_test and R-squared \n",
    "# NOTE: I added a return to pull the exact train_test_split data for further comparison"
   ]
  },
  {
   "cell_type": "markdown",
   "metadata": {},
   "source": [
    "### Simple Linear Regression\n"
   ]
  },
  {
   "cell_type": "markdown",
   "metadata": {},
   "source": [
    "#### 22. Run a simple linear regression with sugars as the predictor (i.e. feature)"
   ]
  },
  {
   "cell_type": "code",
   "execution_count": 258,
   "metadata": {},
   "outputs": [
    {
     "name": "stdout",
     "output_type": "stream",
     "text": [
      "(55, 1) (19, 1) (55,) (19,)\n",
      "Intercept: 60.262721339637665 \n",
      "Coefs: [-2.66849937]\n",
      "R^2: 0.46080332785782707 \n"
     ]
    }
   ],
   "source": [
    "b = run_model(df, \"rating\", [\"sugars\"])# Your code here\n",
    "b0, b1, R2=b[0], b[1], b[3]\n",
    "print(f'Intercept: {b0} \\nCoefs: {b1}\\nR^2: {R2} ')"
   ]
  },
  {
   "cell_type": "markdown",
   "metadata": {},
   "source": [
    "#### 23.  Rerun model in 1.13. \n",
    "\n",
    "Notice the difference in the returns. Run a few times with and without scaling"
   ]
  },
  {
   "cell_type": "code",
   "execution_count": 268,
   "metadata": {},
   "outputs": [
    {
     "name": "stdout",
     "output_type": "stream",
     "text": [
      "(55, 1) (19, 1) (55,) (19,)\n",
      "Intercept: 59.740993132214065 \n",
      "Coefs: [-2.45036228]\n",
      "R^2: 0.6007112683442478 \n"
     ]
    }
   ],
   "source": [
    "b = run_model(df, \"rating\", [\"sugars\"])\n",
    "b0,b1,b2,R3 = b[0],b[1],b[2],b[3]# Your code here\n",
    "print(f'Intercept: {b0} \\nCoefs: {b1}\\nR^2: {R2} ')"
   ]
  },
  {
   "cell_type": "markdown",
   "metadata": {},
   "source": [
    "#### 24. Plot the residuals"
   ]
  },
  {
   "cell_type": "code",
   "execution_count": 269,
   "metadata": {},
   "outputs": [
    {
     "data": {
      "image/png": "[encoded data removed]",
      "text/plain": [
       "<Figure size 432x288 with 1 Axes>"
      ]
     },
     "metadata": {
      "needs_background": "light"
     },
     "output_type": "display_data"
    }
   ],
   "source": [
    "plt.title('Residuals')\n",
    "plt.xlabel(\"sugars\")\n",
    "plt.ylabel(\"rating\")\n",
    "for i in range(len(b2)):\n",
    "    plt.plot((b[-1][1][i],b[-1][1][i]),(b[-1][-1][i],b2[i]),'g-') #(x-coordinates from,to) (y-coordinates  from,to)\n",
    "# Your code here"
   ]
  },
  {
   "cell_type": "markdown",
   "metadata": {},
   "source": [
    "### Multiple Linear Regression"
   ]
  },
  {
   "cell_type": "markdown",
   "metadata": {},
   "source": [
    "#### 25. Encode the  shelf variable so that there is no dummy variable trap."
   ]
  },
  {
   "cell_type": "code",
   "execution_count": 270,
   "metadata": {},
   "outputs": [
    {
     "data": {
      "text/html": [
       "<div>\n",
       "<style scoped>\n",
       "    .dataframe tbody tr th:only-of-type {\n",
       "        vertical-align: middle;\n",
       "    }\n",
       "\n",
       "    .dataframe tbody tr th {\n",
       "        vertical-align: top;\n",
       "    }\n",
       "\n",
       "    .dataframe thead th {\n",
       "        text-align: right;\n",
       "    }\n",
       "</style>\n",
       "<table border=\"1\" class=\"dataframe\">\n",
       "  <thead>\n",
       "    <tr style=\"text-align: right;\">\n",
       "      <th></th>\n",
       "      <th>mfr</th>\n",
       "      <th>calories</th>\n",
       "      <th>protein</th>\n",
       "      <th>fat</th>\n",
       "      <th>sodium</th>\n",
       "      <th>fiber</th>\n",
       "      <th>carbo</th>\n",
       "      <th>sugars</th>\n",
       "      <th>potass</th>\n",
       "      <th>vitamins</th>\n",
       "      <th>rating</th>\n",
       "      <th>sugars2</th>\n",
       "      <th>shelf_2</th>\n",
       "      <th>shelf_3</th>\n",
       "    </tr>\n",
       "  </thead>\n",
       "  <tbody>\n",
       "    <tr>\n",
       "      <th>0</th>\n",
       "      <td>N</td>\n",
       "      <td>70</td>\n",
       "      <td>4</td>\n",
       "      <td>1</td>\n",
       "      <td>130</td>\n",
       "      <td>10.0</td>\n",
       "      <td>5.0</td>\n",
       "      <td>6.0</td>\n",
       "      <td>280.0</td>\n",
       "      <td>25</td>\n",
       "      <td>68.402973</td>\n",
       "      <td>36.0</td>\n",
       "      <td>0</td>\n",
       "      <td>1</td>\n",
       "    </tr>\n",
       "    <tr>\n",
       "      <th>1</th>\n",
       "      <td>Q</td>\n",
       "      <td>120</td>\n",
       "      <td>3</td>\n",
       "      <td>5</td>\n",
       "      <td>15</td>\n",
       "      <td>2.0</td>\n",
       "      <td>8.0</td>\n",
       "      <td>8.0</td>\n",
       "      <td>135.0</td>\n",
       "      <td>0</td>\n",
       "      <td>33.983679</td>\n",
       "      <td>64.0</td>\n",
       "      <td>0</td>\n",
       "      <td>1</td>\n",
       "    </tr>\n",
       "    <tr>\n",
       "      <th>2</th>\n",
       "      <td>K</td>\n",
       "      <td>70</td>\n",
       "      <td>4</td>\n",
       "      <td>1</td>\n",
       "      <td>260</td>\n",
       "      <td>9.0</td>\n",
       "      <td>7.0</td>\n",
       "      <td>5.0</td>\n",
       "      <td>320.0</td>\n",
       "      <td>25</td>\n",
       "      <td>59.425505</td>\n",
       "      <td>25.0</td>\n",
       "      <td>0</td>\n",
       "      <td>1</td>\n",
       "    </tr>\n",
       "    <tr>\n",
       "      <th>3</th>\n",
       "      <td>K</td>\n",
       "      <td>50</td>\n",
       "      <td>4</td>\n",
       "      <td>0</td>\n",
       "      <td>140</td>\n",
       "      <td>14.0</td>\n",
       "      <td>8.0</td>\n",
       "      <td>0.0</td>\n",
       "      <td>330.0</td>\n",
       "      <td>25</td>\n",
       "      <td>93.704912</td>\n",
       "      <td>0.0</td>\n",
       "      <td>0</td>\n",
       "      <td>1</td>\n",
       "    </tr>\n",
       "    <tr>\n",
       "      <th>5</th>\n",
       "      <td>G</td>\n",
       "      <td>110</td>\n",
       "      <td>2</td>\n",
       "      <td>2</td>\n",
       "      <td>180</td>\n",
       "      <td>1.5</td>\n",
       "      <td>10.5</td>\n",
       "      <td>10.0</td>\n",
       "      <td>70.0</td>\n",
       "      <td>25</td>\n",
       "      <td>29.509541</td>\n",
       "      <td>100.0</td>\n",
       "      <td>0</td>\n",
       "      <td>0</td>\n",
       "    </tr>\n",
       "  </tbody>\n",
       "</table>\n",
       "</div>"
      ],
      "text/plain": [
       "  mfr  calories  protein  fat  sodium  fiber  carbo  sugars  potass  vitamins  \\\n",
       "0   N        70        4    1     130   10.0    5.0     6.0   280.0        25   \n",
       "1   Q       120        3    5      15    2.0    8.0     8.0   135.0         0   \n",
       "2   K        70        4    1     260    9.0    7.0     5.0   320.0        25   \n",
       "3   K        50        4    0     140   14.0    8.0     0.0   330.0        25   \n",
       "5   G       110        2    2     180    1.5   10.5    10.0    70.0        25   \n",
       "\n",
       "      rating  sugars2  shelf_2  shelf_3  \n",
       "0  68.402973     36.0        0        1  \n",
       "1  33.983679     64.0        0        1  \n",
       "2  59.425505     25.0        0        1  \n",
       "3  93.704912      0.0        0        1  \n",
       "5  29.509541    100.0        0        0  "
      ]
     },
     "execution_count": 270,
     "metadata": {},
     "output_type": "execute_result"
    }
   ],
   "source": [
    "df2 = pd.get_dummies(df,columns=['shelf'],drop_first=True)# Your code here\n",
    "df2.head()"
   ]
  },
  {
   "cell_type": "markdown",
   "metadata": {},
   "source": [
    "#### 26. Run Multiple Linear Regression with features calories, fat, sugar and shelf"
   ]
  },
  {
   "cell_type": "code",
   "execution_count": 271,
   "metadata": {},
   "outputs": [
    {
     "name": "stdout",
     "output_type": "stream",
     "text": [
      "(55, 5) (19, 5) (55,) (19,)\n",
      "Intercept: 74.46723715804958 \n",
      "Coefs: [-0.18917591 -2.1391972  -1.57784164 -2.02048862  4.14288786]\n",
      "R^2: 0.6146881917819966 \n"
     ]
    }
   ],
   "source": [
    "feats = [\"calories\", \"fat\", \"sugars\", \"shelf_2\", \"shelf_3\"]\n",
    "b = run_model(df2, \"rating\", feats)\n",
    "b0, b1, b2, R2 = b[0], b[1], b[2], b[3]# Your code here\n",
    "print(f'Intercept: {b0} \\nCoefs: {b1}\\nR^2: {R2} ')"
   ]
  },
  {
   "cell_type": "markdown",
   "metadata": {},
   "source": [
    "#### 27. Calculate the root Mean Square Error"
   ]
  },
  {
   "cell_type": "code",
   "execution_count": 272,
   "metadata": {},
   "outputs": [
    {
     "name": "stdout",
     "output_type": "stream",
     "text": [
      "RMSE: 9.465548780897844\n"
     ]
    }
   ],
   "source": [
    "rmse = np.sqrt(np.mean((b[-1][-1] - b2)**2))# Your code here\n",
    "print(\"RMSE:\",rmse)"
   ]
  },
  {
   "cell_type": "markdown",
   "metadata": {},
   "source": [
    "#### 28. Run Multiple Linear Regression  with features  calories, fat, sugar and carbo\n"
   ]
  },
  {
   "cell_type": "code",
   "execution_count": 273,
   "metadata": {},
   "outputs": [
    {
     "name": "stdout",
     "output_type": "stream",
     "text": [
      "(55, 4) (19, 4) (55,) (19,)\n",
      "Intercept: 76.41082739735143 \n",
      "Coefs: [ 0.34677798 -6.87790425 -3.54384956 -2.66763667]\n",
      "R^2: 0.6146881917819966 \n"
     ]
    }
   ],
   "source": [
    "b = run_model(df, \"rating\", [\"calories\", \"fat\", \"sugars\", \"carbo\"])\n",
    "b0, b1, b2, R3 = b[0], b[1], b[2], b[3]# Your code here\n",
    "print(f'Intercept: {b0} \\nCoefs: {b1}\\nR^2: {R2} ')"
   ]
  },
  {
   "cell_type": "markdown",
   "metadata": {},
   "source": [
    "#### 29. Run Multiple Linear Regression  with  all the predictors except mfr. "
   ]
  },
  {
   "cell_type": "code",
   "execution_count": 274,
   "metadata": {},
   "outputs": [
    {
     "name": "stdout",
     "output_type": "stream",
     "text": [
      "(55, 11) (19, 11) (55,) (19,)\n",
      "Intercept: 54.92718420643589 \n",
      "Coefs: [-2.22724165e-01  3.27317387e+00 -1.69140797e+00 -5.44927029e-02\n",
      "  3.44347977e+00  1.09245095e+00 -7.24895139e-01 -3.39933515e-02\n",
      " -5.12119675e-02 -6.73158060e-08 -3.02583271e-10]\n",
      "R^2: 0.6297351253265144 \n"
     ]
    }
   ],
   "source": [
    "feats = list(df.columns)\n",
    "feats.remove('mfr')\n",
    "feats.remove('rating')\n",
    "b = run_model(df, 'rating', feats)\n",
    "b0, b1, b2, R2 = b[0], b[1], b[2], b[3]# Your code here\n",
    "print(f'Intercept: {b0} \\nCoefs: {b1}\\nR^2: {R2} ')"
   ]
  },
  {
   "cell_type": "markdown",
   "metadata": {},
   "source": [
    "### Polynomial Linear Regression"
   ]
  },
  {
   "cell_type": "markdown",
   "metadata": {},
   "source": [
    "####  30. Add a sugars squared variable to the data frame and run model with features sugars and sugars squared"
   ]
  },
  {
   "cell_type": "code",
   "execution_count": 275,
   "metadata": {},
   "outputs": [
    {
     "name": "stdout",
     "output_type": "stream",
     "text": [
      "(55, 2) (19, 2) (55,) (19,)\n",
      "Intercept: 66.96833206589795 \n",
      "Coefs: [-5.65238717  0.22319227]\n",
      "R^2: 0.6239702633036861 \n"
     ]
    }
   ],
   "source": [
    "df[\"sugars2\"] = df[\"sugars\"] ** 2\n",
    "b = run_model(df, 'rating', ['sugars', 'sugars2'])\n",
    "b0, b1, b2, R2 = b[0], b[1], b[2], b[3]# Your code here\n",
    "print(f'Intercept: {b0} \\nCoefs: {b1}\\nR^2: {R2} ')"
   ]
  },
  {
   "cell_type": "code",
   "execution_count": null,
   "metadata": {},
   "outputs": [],
   "source": []
  }
 ],
 "metadata": {
  "kernelspec": {
   "display_name": "Python 3",
   "language": "python",
   "name": "python3"
  },
  "language_info": {
   "codemirror_mode": {
    "name": "ipython",
    "version": 3
   },
   "file_extension": ".py",
   "mimetype": "text/x-python",
   "name": "python",
   "nbconvert_exporter": "python",
   "pygments_lexer": "ipython3",
   "version": "3.8.3"
  },
  "varInspector": {
   "cols": {
    "lenName": 16,
    "lenType": 16,
    "lenVar": 40
   },
   "kernels_config": {
    "python": {
     "delete_cmd_postfix": "",
     "delete_cmd_prefix": "del ",
     "library": "var_list.py",
     "varRefreshCmd": "print(var_dic_list())"
    },
    "r": {
     "delete_cmd_postfix": ") ",
     "delete_cmd_prefix": "rm(",
     "library": "var_list.r",
     "varRefreshCmd": "cat(var_dic_list()) "
    }
   },
   "types_to_exclude": [
    "module",
    "function",
    "builtin_function_or_method",
    "instance",
    "_Feature"
   ],
   "window_display": false
  }
 },
 "nbformat": 4,
 "nbformat_minor": 4
}
